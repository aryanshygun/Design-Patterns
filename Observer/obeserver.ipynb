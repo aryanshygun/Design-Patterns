{
 "cells": [
  {
   "cell_type": "markdown",
   "id": "a83b1a04",
   "metadata": {},
   "source": [
    "Observer Pattern:\n",
    "\n",
    "- behavioral Design pattern\n",
    "\n",
    "- allows a subject called subject to have a list of dependent aka Observers and let them know of its state and update them automatically with the current state.\n",
    "\n",
    "- does it through one of the observer's methods such as update()\n",
    "\n",
    "- we use this method for the loose coupling principle. we seperate the subject from observers in order to follow the OOP principles"
   ]
  },
  {
   "cell_type": "markdown",
   "id": "35613ff9",
   "metadata": {},
   "source": [
    "Use Cases:\n",
    "\n",
    "- used in GUI event handling or the same with any MVC framework such as django. for example we notify multiple handlers such as clicks or hovers\n",
    "\n",
    "- stock market applications. triggering tickers and candles with charts and logs and alert modules.\n",
    "\n",
    "- microservices or distributed systems. used in event buses or message brokers such as kafka or rabbitmq\n",
    "\n",
    "- logging and analytics.\n",
    "\n",
    "- social media notifications: when someone likes sth or creates a post"
   ]
  },
  {
   "cell_type": "code",
   "execution_count": 1,
   "id": "b30e79fb",
   "metadata": {},
   "outputs": [
    {
     "name": "stdout",
     "output_type": "stream",
     "text": [
      "[Alice] Recieved update: system update available\n",
      "[Bob] Recieved update: system update available\n",
      "[Bob] Recieved update: new system update available\n"
     ]
    }
   ],
   "source": [
    "from abc import ABC, abstractmethod\n",
    "\n",
    "class Observer(ABC):\n",
    "    \n",
    "    @abstractmethod\n",
    "    def update(self, message):\n",
    "        pass\n",
    "\n",
    "class ConcreteObserver(Observer):\n",
    "    \n",
    "    def __init__(self, name):\n",
    "        self.name = name\n",
    "    \n",
    "    def update(self, message):\n",
    "        print(f\"[{self.name}] Recieved update: {message}\")\n",
    "\n",
    "class Subject:\n",
    "    def __init__(self):\n",
    "        self._observers = []\n",
    "    \n",
    "    def attach(self, observer):\n",
    "        if observer not in self._observers:\n",
    "            self._observers.append(observer)\n",
    "    \n",
    "    def detach(self, observer):\n",
    "        if observer in self._observers:\n",
    "            self._observers.remove(observer)\n",
    "    \n",
    "    def notify(self, message):\n",
    "        for observer in self._observers:\n",
    "            observer.update(message)\n",
    "subject = Subject()\n",
    "\n",
    "observer1 = ConcreteObserver('Alice')\n",
    "observer2 = ConcreteObserver('Bob')\n",
    "\n",
    "subject.attach(observer1)\n",
    "subject.attach(observer2)\n",
    "\n",
    "subject.notify(\"system update available\")\n",
    "\n",
    "subject.detach(observer1)\n",
    "\n",
    "subject.notify(\"new system update available\")\n"
   ]
  },
  {
   "cell_type": "markdown",
   "id": "bb599627",
   "metadata": {},
   "source": [
    "1. Observer (Abstract Base Class)\n",
    "Role:\n",
    "\n",
    "Defines the interface (contract) that all concrete observers must follow.\n",
    "Key Points:\n",
    "\n",
    "    Inherits from ABC (Abstract Base Class) to enforce abstraction.\n",
    "\n",
    "    Declares the update() method that every observer must implement.\n",
    "\n",
    "    Promotes polymorphism: the subject doesn’t care which observer it’s talking to—only that it has an update() method.\n"
   ]
  },
  {
   "cell_type": "code",
   "execution_count": null,
   "id": "2c7a09ef",
   "metadata": {},
   "outputs": [],
   "source": [
    "class Observer(ABC):\n",
    "    @abstractmethod\n",
    "    def update(self, message: str) -> None:\n",
    "        pass\n"
   ]
  },
  {
   "cell_type": "markdown",
   "id": "5b093ec1",
   "metadata": {},
   "source": [
    "2. ConcreteObserver\n",
    "Role:\n",
    "\n",
    "This is an actual subscriber or listener. It receives notifications from the subject.\n",
    "Key Points:\n",
    "\n",
    "    Inherits from Observer, so it must implement the update() method.\n",
    "\n",
    "    name is used for identification and logging purposes.\n",
    "\n",
    "    In a real system, this could be a UI component, service, or even a log writer."
   ]
  },
  {
   "cell_type": "code",
   "execution_count": null,
   "id": "c65697f5",
   "metadata": {},
   "outputs": [],
   "source": [
    "class ConcreteObserver(Observer):\n",
    "    def __init__(self, name: str):\n",
    "        self.name = name\n",
    "\n",
    "    def update(self, message: str) -> None:\n",
    "        print(f\"[{self.name}] Received update: {message}\")\n"
   ]
  },
  {
   "cell_type": "markdown",
   "id": "058e2744",
   "metadata": {},
   "source": [
    "3. Subject\n",
    "Role:\n",
    "\n",
    "The Publisher or Broadcaster—this is the object whose state changes and which notifies observers about those changes.\n",
    "Key Points:\n",
    "\n",
    "    Maintains a private list of observers (_observers).\n",
    "\n",
    "    attach(): Add a new observer (subscribe).\n",
    "\n",
    "    detach(): Remove an observer (unsubscribe).\n",
    "\n",
    "    notify(): Loops through all attached observers and calls their update() method, pushing the message."
   ]
  },
  {
   "cell_type": "code",
   "execution_count": null,
   "id": "65db7ac1",
   "metadata": {},
   "outputs": [],
   "source": [
    "class Subject:\n",
    "    def __init__(self):\n",
    "        self._observers: list[Observer] = []\n",
    "\n",
    "    def attach(self, observer: Observer) -> None:\n",
    "        if observer not in self._observers:\n",
    "            self._observers.append(observer)\n",
    "\n",
    "    def detach(self, observer: Observer) -> None:\n",
    "        if observer in self._observers:\n",
    "            self._observers.remove(observer)\n",
    "\n",
    "    def notify(self, message: str) -> None:\n",
    "        for observer in self._observers:\n",
    "            observer.update(message)\n"
   ]
  }
 ],
 "metadata": {
  "kernelspec": {
   "display_name": "DPenv",
   "language": "python",
   "name": "python3"
  },
  "language_info": {
   "codemirror_mode": {
    "name": "ipython",
    "version": 3
   },
   "file_extension": ".py",
   "mimetype": "text/x-python",
   "name": "python",
   "nbconvert_exporter": "python",
   "pygments_lexer": "ipython3",
   "version": "3.11.7"
  }
 },
 "nbformat": 4,
 "nbformat_minor": 5
}
