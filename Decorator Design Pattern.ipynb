{
 "cells": [
  {
   "cell_type": "markdown",
   "id": "c6d3883a",
   "metadata": {},
   "source": [
    "Definition\n",
    "\n",
    "The Decorator Pattern is a structural design pattern that allows behavior to be added to individual objects dynamically, without affecting the behavior of other objects from the same class. This is achieved by placing these objects inside special wrapper objects (decorators) that contain the additional behavior."
   ]
  },
  {
   "cell_type": "markdown",
   "id": "d657d436",
   "metadata": {},
   "source": [
    "- Extend the functionality of objects at runtime.\n",
    "\n",
    "- Promote composition over inheritance.\n",
    "\n",
    "- Allow new responsibilities to be added to an object transparently and flexibly."
   ]
  },
  {
   "cell_type": "markdown",
   "id": "53b3b638",
   "metadata": {},
   "source": [
    "Common Use Cases in Practice\n",
    "\n",
    "- GUI components (e.g., adding scrollbars to a window).\n",
    "\n",
    "- Logging, timing, caching, or access control in applications.\n",
    "\n",
    "- Text processing: wrapping a text formatter with a spell checker or a grammar checker.\n",
    "\n",
    "- Enhancing I/O stream behavior (as in Java’s BufferedReader, InputStream wrappers)."
   ]
  },
  {
   "cell_type": "code",
   "execution_count": 4,
   "id": "74f45717",
   "metadata": {},
   "outputs": [],
   "source": [
    "from abc import ABC, abstractmethod"
   ]
  },
  {
   "cell_type": "code",
   "execution_count": 5,
   "id": "725fb411",
   "metadata": {},
   "outputs": [],
   "source": [
    "# Base interface\n",
    "class Notifier(ABC):\n",
    "    @abstractmethod\n",
    "    def send(self, message: str):\n",
    "        pass\n",
    "\n",
    "# Core component\n",
    "class EmailNotifier(Notifier):\n",
    "    def send(self, message: str):\n",
    "        print(f\"Email: {message}\")"
   ]
  },
  {
   "cell_type": "code",
   "execution_count": 6,
   "id": "013d23ba",
   "metadata": {},
   "outputs": [],
   "source": [
    "# Decorator base\n",
    "class NotifierDecorator(Notifier):\n",
    "    def __init__(self, notifier: Notifier):\n",
    "        self._notifier = notifier\n",
    "\n",
    "    def send(self, message: str):\n",
    "        self._notifier.send(message)"
   ]
  },
  {
   "cell_type": "code",
   "execution_count": 7,
   "id": "f822058a",
   "metadata": {},
   "outputs": [],
   "source": [
    "# SMS decorator\n",
    "class SMSDecorator(NotifierDecorator):\n",
    "    def send(self, message: str):\n",
    "        super().send(message)\n",
    "        print(f\"SMS: {message}\")\n",
    "\n",
    "# Slack decorator\n",
    "class SlackDecorator(NotifierDecorator):\n",
    "    def send(self, message: str):\n",
    "        super().send(message)\n",
    "        print(f\"Slack: {message}\")"
   ]
  },
  {
   "cell_type": "code",
   "execution_count": 8,
   "id": "2385b5a1",
   "metadata": {},
   "outputs": [
    {
     "name": "stdout",
     "output_type": "stream",
     "text": [
      "Email: Server is down.\n",
      "SMS: Server is down.\n",
      "Slack: Server is down.\n"
     ]
    }
   ],
   "source": [
    "# Example usage\n",
    "notifier = EmailNotifier()  # basic\n",
    "notifier = SMSDecorator(notifier)  # add SMS\n",
    "notifier = SlackDecorator(notifier)  # add Slack\n",
    "\n",
    "notifier.send(\"Server is down.\")"
   ]
  },
  {
   "cell_type": "markdown",
   "id": "baa5bf49",
   "metadata": {},
   "source": [
    "Decorators in this pattern act as 'add-ons' that layer extra behavior on top of the base component’s functionality—they can only add to what the core does but never replace or remove it. So if your core sends an email, every decorator you wrap around it will still call that email send first, then add their own behavior. You can’t use decorators to skip the base action; they are designed to extend, not override or exclude.\n",
    "\n",
    "If you want a notification system that sends only one specific type of message—say just SMS or just Slack without anything else—that’s when you don’t use decorators at all. Instead, you create a simple core component that handles only that channel’s sending logic. This single-purpose component acts as the entire notifier by itself, not wrapped in decorators, because the decorator pattern’s whole point is to combine and layer behaviors, not to isolate or replace them."
   ]
  },
  {
   "cell_type": "code",
   "execution_count": 9,
   "id": "805eb730",
   "metadata": {},
   "outputs": [],
   "source": [
    "class BaseNotifier(Notifier):\n",
    "    def send(self, message: str):\n",
    "        pass  # No base message"
   ]
  },
  {
   "cell_type": "code",
   "execution_count": 10,
   "id": "2e3a48b4",
   "metadata": {},
   "outputs": [
    {
     "name": "stdout",
     "output_type": "stream",
     "text": [
      "SMS: Just an SMS\n",
      "SMS: Slack & SMS only\n",
      "Slack: Slack & SMS only\n",
      "Email: All channels\n",
      "SMS: All channels\n",
      "Slack: All channels\n"
     ]
    }
   ],
   "source": [
    "# Only SMS\n",
    "notifier = SMSDecorator(BaseNotifier())\n",
    "notifier.send(\"Just an SMS\")\n",
    "\n",
    "# Slack + SMS, no Email\n",
    "notifier = SlackDecorator(SMSDecorator(BaseNotifier()))\n",
    "notifier.send(\"Slack & SMS only\")\n",
    "\n",
    "# Full chain\n",
    "notifier = SlackDecorator(SMSDecorator(EmailNotifier()))\n",
    "notifier.send(\"All channels\")\n"
   ]
  },
  {
   "cell_type": "markdown",
   "id": "bf1f9648",
   "metadata": {},
   "source": [
    "In the core component, you don’t wanna be printing or handling any output directly. Its job is just to define the basic interface—the send method—without deciding how the message gets delivered or shown. It’s like the barebones skeleton, no fluff, no noise.\n",
    "\n",
    "The decorators are the ones that actually do the work: they implement the specifics of how to send or display the message—like printing \"Email:\", \"SMS:\", or \"Slack:\". So, the core just passes the message along, and the decorators handle the flavor and style of that message. This way, your core stays clean and flexible, while the decorators customize the delivery."
   ]
  }
 ],
 "metadata": {
  "kernelspec": {
   "display_name": "DPenv",
   "language": "python",
   "name": "python3"
  },
  "language_info": {
   "codemirror_mode": {
    "name": "ipython",
    "version": 3
   },
   "file_extension": ".py",
   "mimetype": "text/x-python",
   "name": "python",
   "nbconvert_exporter": "python",
   "pygments_lexer": "ipython3",
   "version": "3.13.3"
  }
 },
 "nbformat": 4,
 "nbformat_minor": 5
}
