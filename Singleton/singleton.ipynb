{
 "cells": [
  {
   "cell_type": "markdown",
   "id": "fcd1935e",
   "metadata": {},
   "source": [
    "The Singleton design pattern is a software engineering principle that ensures a class has only one instance throughout the entire lifecycle of an application. This pattern restricts object instantiation by controlling the creation process, so once the first instance is created, any subsequent calls return a reference to that same instance rather than creating a new one. The Singleton pattern is particularly useful for managing shared resources, coordinating actions, or maintaining global state in a controlled manner.\n",
    "\n",
    "This design pattern is typically applied in scenarios where multiple instances could cause conflicts, inefficiencies, or inconsistency. Common use cases include:\n",
    "\n",
    "- Configuration managers: Centralizing configuration settings so all components access a consistent source.\n",
    "\n",
    "- Logging services: Ensuring a single logging instance that collects and manages logs uniformly.\n",
    "\n",
    "- Database connection pools: Managing a limited number of database connections to optimize resource usage.\n",
    "\n",
    "- Thread pools and task schedulers: Controlling the execution of concurrent processes efficiently.\n",
    "\n",
    "- Caches and registries: Providing a unified access point to frequently used data without duplication.\n",
    "\n",
    "The fundamental advantage of the Singleton pattern is that it promotes controlled access to a unique instance, ensuring consistency and preventing redundant resource consumption. However, it also introduces challenges, such as potential issues in multithreaded environments if synchronization is not handled properly, and risks becoming an anti-pattern if overused or used as a global variable substitute. Proper implementation and careful consideration of use cases are essential to leverage the Singleton pattern effectively."
   ]
  },
  {
   "cell_type": "markdown",
   "id": "9c0eb48c",
   "metadata": {},
   "source": [
    "Here is a simple ready to use Singleton class:"
   ]
  },
  {
   "cell_type": "code",
   "execution_count": 15,
   "id": "57a5a21d",
   "metadata": {},
   "outputs": [],
   "source": [
    "class Singleton:\n",
    "    _instance = None\n",
    "    \n",
    "    def __init__(self):\n",
    "        if Singleton._instance is None:\n",
    "            Singleton._instance = self\n",
    "        else:\n",
    "            raise Exception(\"This is a Singleton class\")\n",
    "    \n",
    "    @classmethod\n",
    "    def get_instance(cls):\n",
    "        if cls._instance is None:\n",
    "            cls()\n",
    "        return cls._instance\n"
   ]
  },
  {
   "cell_type": "markdown",
   "id": "b30ee623",
   "metadata": {},
   "source": [
    "Now if you run the code below, it shows that the second user cannot be created like this."
   ]
  },
  {
   "cell_type": "code",
   "execution_count": null,
   "id": "0d47fd98",
   "metadata": {},
   "outputs": [
    {
     "name": "stdout",
     "output_type": "stream",
     "text": [
      "<__main__.Singleton object at 0x7ad7dc712f10>\n",
      "This is a Singleton class\n"
     ]
    }
   ],
   "source": [
    "user1 = Singleton()\n",
    "print(user1)\n",
    "try:\n",
    "    user2 = Singleton()\n",
    "    print(user2)\n",
    "except Exception as e:\n",
    "    print('error', e)"
   ]
  },
  {
   "cell_type": "markdown",
   "id": "729f83df",
   "metadata": {},
   "source": [
    "what can we do then?\n",
    "Instead of creating an Instance of the class, we let the class give us an instance instead. we use the classmethod get_instance()."
   ]
  },
  {
   "cell_type": "code",
   "execution_count": 3,
   "id": "fdd0db8a",
   "metadata": {},
   "outputs": [
    {
     "name": "stdout",
     "output_type": "stream",
     "text": [
      "<__main__.Singleton object at 0x7ad7e40e84d0>\n",
      "<__main__.Singleton object at 0x7ad7e40e84d0>\n"
     ]
    }
   ],
   "source": [
    "user1 = Singleton.get_instance()\n",
    "print(user1)\n",
    "\n",
    "user2 = Singleton.get_instance()\n",
    "print(user2)"
   ]
  },
  {
   "cell_type": "markdown",
   "id": "d6d2a71c",
   "metadata": {},
   "source": [
    "as you can see, it gives the same address each time we make a new instance using this classmethod. now lets make it so that we dont have to use a classmethod, we just call the class object when creating and have it give us the same instance. the code will be simpler, and the user dont have to be aware of the fact that this is a singleton and know that they have to use the classmethod get_instance()."
   ]
  },
  {
   "cell_type": "code",
   "execution_count": 11,
   "id": "09503fba",
   "metadata": {},
   "outputs": [],
   "source": [
    "class Singleton:\n",
    "    _instance = None\n",
    "    \n",
    "    def __new__(cls):\n",
    "        if cls._instance is None:\n",
    "            cls._instance = super().__new__(cls)\n",
    "        return cls._instance"
   ]
  },
  {
   "cell_type": "code",
   "execution_count": null,
   "id": "b9cedc8a",
   "metadata": {},
   "outputs": [
    {
     "name": "stdout",
     "output_type": "stream",
     "text": [
      "<__main__.Singleton object at 0x7ad7dc729210>\n",
      "<__main__.Singleton object at 0x7ad7dc729210>\n"
     ]
    }
   ],
   "source": [
    "user1 = Singleton()\n",
    "print(user1)\n",
    "user2 = Singleton()\n",
    "print(user2)"
   ]
  },
  {
   "cell_type": "markdown",
   "id": "4093ac28",
   "metadata": {},
   "source": [
    "As you can see, you can just directly call the class object and have it be the same instance everytime"
   ]
  },
  {
   "cell_type": "markdown",
   "id": "8f028c23",
   "metadata": {},
   "source": [
    "there might be a problem when multithreading, as in each thread, it thinks the _instance is None and creates multiple instances. thankfully python has a builtin lock to make it so that it is semi synchronized. meaning at one point only one thread can go to the __new__ function:"
   ]
  },
  {
   "cell_type": "code",
   "execution_count": null,
   "id": "35c89c4e",
   "metadata": {},
   "outputs": [],
   "source": [
    "import threading\n",
    "class Singleton:\n",
    "    _instance = None\n",
    "    _lock = threading.Lock()\n",
    "    \n",
    "    def __new__(cls):\n",
    "        if cls._instance is None:\n",
    "            with cls._lock:\n",
    "                if cls._instance is None:\n",
    "                    cls._instance = super().__new__(cls)\n",
    "        return cls._instance\n",
    "    "
   ]
  },
  {
   "cell_type": "markdown",
   "id": "4b0ec01e",
   "metadata": {},
   "source": [
    "Now, why the hell do we check cls._instance is None twice? Because locking is expensive.\n",
    "1. First check (outside the lock):\n",
    "    Fast path. If _instance is already set, we avoid the lock entirely. This means most calls after initialization skip locking — boosting performance.\n",
    "\n",
    "2. Second check (inside the lock):\n",
    "    Guarantees only one thread creates the instance. Prevents a race condition: imagine two threads reaching the first if at the same time before _instance is set.\n",
    "\n",
    "    They’d both acquire the lock (one after the other), but without the second check, the second one would overwrite the instance."
   ]
  }
 ],
 "metadata": {
  "kernelspec": {
   "display_name": "DPenv",
   "language": "python",
   "name": "python3"
  },
  "language_info": {
   "codemirror_mode": {
    "name": "ipython",
    "version": 3
   },
   "file_extension": ".py",
   "mimetype": "text/x-python",
   "name": "python",
   "nbconvert_exporter": "python",
   "pygments_lexer": "ipython3",
   "version": "3.11.7"
  }
 },
 "nbformat": 4,
 "nbformat_minor": 5
}
